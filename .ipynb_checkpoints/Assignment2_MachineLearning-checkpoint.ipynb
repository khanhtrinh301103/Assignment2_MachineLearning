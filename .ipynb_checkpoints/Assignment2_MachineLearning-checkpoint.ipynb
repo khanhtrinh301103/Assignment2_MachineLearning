{
 "cells": [
  {
   "cell_type": "raw",
   "id": "4831fa03-0ef7-492e-af61-85415de5a149",
   "metadata": {},
   "source": [
    "hello"
   ]
  }
 ],
 "metadata": {
  "kernelspec": {
   "display_name": "Python 3 (ipykernel)",
   "language": "python",
   "name": "python3"
  },
  "language_info": {
   "codemirror_mode": {
    "name": "ipython",
    "version": 3
   },
   "file_extension": ".py",
   "mimetype": "text/x-python",
   "name": "python",
   "nbconvert_exporter": "python",
   "pygments_lexer": "ipython3",
   "version": "3.11.7"
  }
 },
 "nbformat": 4,
 "nbformat_minor": 5
}
